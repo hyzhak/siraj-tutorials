{
 "cells": [
  {
   "cell_type": "code",
   "execution_count": 1,
   "metadata": {
    "collapsed": false
   },
   "outputs": [],
   "source": [
    "# Build a Neural Net in 4 Minutes by Siraj Raval\n",
    "# https://www.youtube.com/watch?v=h3l4qz76JhQ\n",
    "# https://github.com/stmorgan/pythonNNexample (sources by Siraj)\n",
    "#\n",
    "# More:\n",
    "#"
   ]
  },
  {
   "cell_type": "code",
   "execution_count": 2,
   "metadata": {
    "collapsed": true
   },
   "outputs": [],
   "source": [
    "import numpy as np\n",
    "import matplotlib.pyplot as plt\n"
   ]
  },
  {
   "cell_type": "code",
   "execution_count": 3,
   "metadata": {
    "collapsed": true
   },
   "outputs": [],
   "source": [
    "# sigmoid\n",
    "def nonlin(x, deriv=False):\n",
    "    if (deriv==True):\n",
    "        # Siraj function doesn't look like real derivative of sigmoid\n",
    "        return x * (1 - x)\n",
    "    return 1 / (1 + np.exp(-x))\n",
    "\n",
    "def sigmoid_prime(z):\n",
    "    # derivative of sigmoid function\n",
    "    # from here (http://lumiverse.io/video/part-4-backpropagation)\n",
    "    return np.exp(-z)/((1+np.exp(-z))**2)"
   ]
  },
  {
   "cell_type": "code",
   "execution_count": 4,
   "metadata": {
    "collapsed": false
   },
   "outputs": [],
   "source": [
    "# input data\n",
    "x = np.array([[0, 0, 1],\n",
    "              [0, 1, 1],\n",
    "              [1, 0, 1],\n",
    "              [1, 1, 1]])"
   ]
  },
  {
   "cell_type": "code",
   "execution_count": 5,
   "metadata": {
    "collapsed": false
   },
   "outputs": [],
   "source": [
    "# output data\n",
    "y = np.array([[0],\n",
    "              [1],\n",
    "              [1],\n",
    "              [0]])"
   ]
  },
  {
   "cell_type": "code",
   "execution_count": 6,
   "metadata": {
    "collapsed": false
   },
   "outputs": [],
   "source": [
    "# for test purpose\n",
    "np.random.seed(1)"
   ]
  },
  {
   "cell_type": "code",
   "execution_count": 7,
   "metadata": {
    "collapsed": false
   },
   "outputs": [],
   "source": [
    "# synapses\n",
    "syn0 = 2*np.random.random((3,4)) - 1\n",
    "syn1 = 2*np.random.random((4,1)) - 1"
   ]
  },
  {
   "cell_type": "code",
   "execution_count": 8,
   "metadata": {
    "collapsed": false
   },
   "outputs": [
    {
     "name": "stdout",
     "output_type": "stream",
     "text": [
      "Error: 0.496410031903\n",
      "Error: 0.393981110333\n",
      "Error: 0.0288131720625\n",
      "Error: 0.0099229924723\n",
      "Error: 0.00568111948811\n",
      "Error: 0.00377729600328\n",
      "output after training\n",
      "[[ 0.00250789]\n",
      " [ 0.99687745]\n",
      " [ 0.99712593]\n",
      " [ 0.00224075]]\n"
     ]
    }
   ],
   "source": [
    "# training step\n",
    "for j in range(60000):\n",
    "    l0 = x\n",
    "    l1 = nonlin(np.dot(l0, syn0))\n",
    "    l2 = nonlin(np.dot(l1, syn1))\n",
    "    \n",
    "    # backpropagation\n",
    "    l2_error = y - l2\n",
    "#     l2_delta = l2_error * nonlin(l2, deriv=True)\n",
    "    l2_delta = l2_error * sigmoid_prime(l2)\n",
    "    l1_error = l2_delta.dot(syn1.T)\n",
    "#     l1_delta = l1_error * nonlin(l1, deriv=True)\n",
    "    l1_delta = l1_error * sigmoid_prime(l1)\n",
    "\n",
    "    if (j % 10000) == 0:\n",
    "        print('Error: {}'.format(str(np.mean(np.abs(l2_error)))))\n",
    "\n",
    "    # gradient descent\n",
    "    syn1 += l1.T.dot(l2_delta)\n",
    "    syn0 += l0.T.dot(l1_delta)\n",
    "    \n",
    "print('output after training')\n",
    "print(l2)"
   ]
  },
  {
   "cell_type": "code",
   "execution_count": 9,
   "metadata": {
    "collapsed": false
   },
   "outputs": [
    {
     "data": {
      "image/png": "[encoded data removed]",
      "text/plain": [
       "<matplotlib.figure.Figure at 0x7f0b58a5e828>"
      ]
     },
     "metadata": {},
     "output_type": "display_data"
    }
   ],
   "source": [
    "X = np.linspace(-10, 10, 256, endpoint=True)\n",
    "plt.plot(X, nonlin(X))\n",
    "# with scaled deriv of sigmoid of Siraj\n",
    "plt.plot(X, nonlin(X, deriv=True)/100)\n",
    "plt.plot(X, sigmoid_prime(X))\n",
    "plt.show()"
   ]
  },
  {
   "cell_type": "code",
   "execution_count": 10,
   "metadata": {
    "collapsed": false
   },
   "outputs": [
    {
     "data": {
      "image/png": "[encoded data removed]",
      "text/plain": [
       "<matplotlib.figure.Figure at 0x7f0b56369978>"
      ]
     },
     "metadata": {},
     "output_type": "display_data"
    }
   ],
   "source": [
    "X = np.linspace(-10, 10, 256, endpoint=True)\n",
    "plt.plot(X, nonlin(X))\n",
    "# with original deriv of sigmoid of Siraj\n",
    "plt.plot(X, nonlin(X, deriv=True))\n",
    "plt.plot(X, sigmoid_prime(X))\n",
    "plt.show()"
   ]
  },
  {
   "cell_type": "code",
   "execution_count": null,
   "metadata": {
    "collapsed": true
   },
   "outputs": [],
   "source": []
  }
 ],
 "metadata": {
  "kernelspec": {
   "display_name": "Python 3",
   "language": "python",
   "name": "python3"
  },
  "language_info": {
   "codemirror_mode": {
    "name": "ipython",
    "version": 3
   },
   "file_extension": ".py",
   "mimetype": "text/x-python",
   "name": "python",
   "nbconvert_exporter": "python",
   "pygments_lexer": "ipython3",
   "version": "3.6.0"
  }
 },
 "nbformat": 4,
 "nbformat_minor": 0
}
